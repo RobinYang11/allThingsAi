{
 "cells": [
  {
   "cell_type": "code",
   "execution_count": 4,
   "metadata": {},
   "outputs": [],
   "source": [
    "import torch\n",
    "import torch.nn as nn\n",
    "import torch.optim as optim\n",
    "import random\n",
    "\n",
    "# 生成上海房价数据\n",
    "datas = [\n",
    "    [1, 100, 400, 3],\n",
    "    [2, 100, 300, 1],\n",
    "    [1, 80, 800, 1],\n",
    "    [3, 100, 300, 2],\n",
    "]\n",
    "\n",
    "# 生成额外 100 条数据\n",
    "for _ in range(100):\n",
    "    row = [\n",
    "        random.randint(1, 3),  # 第一列：房屋类型 (类别变量)\n",
    "        random.randint(80, 100),  # 第二列：面积 (数值变量)\n",
    "        random.randint(300, 800),  # 第三列：价格 (目标值)\n",
    "        random.randint(1, 3)  # 第四列：位置 (类别变量)\n",
    "    ]\n",
    "    datas.append(row)\n",
    "\n",
    "# 转换为张量\n",
    "data = torch.tensor(datas, dtype=torch.float32)\n",
    "\n",
    "# 归一化处理（仅对数值变量进行标准化）\n",
    "max_size = data[:, 1].max()\n",
    "max_price = data[:, 2].max()\n",
    "data[:, 1] /= max_size  # 归一化面积\n",
    "data[:, 2] /= max_price  # 归一化价格（目标变量）\n",
    "\n",
    "# One-hot 编码类别变量（房屋类型 和 位置）\n",
    "house_type = torch.nn.functional.one_hot(data[:, 0].to(torch.int64) - 1, num_classes=3)\n",
    "location = torch.nn.functional.one_hot(data[:, 3].to(torch.int64) - 1, num_classes=3)\n",
    "\n",
    "# 构造最终输入特征（拼接 one-hot 编码 和 数值特征）\n",
    "X = torch.cat([house_type, data[:, 1:2], location], dim=1)  # 输入特征\n",
    "y = data[:, 2:3]  # 目标值（房价）"
   ]
  },
  {
   "cell_type": "markdown",
   "metadata": {},
   "source": []
  },
  {
   "cell_type": "code",
   "execution_count": 7,
   "metadata": {},
   "outputs": [
    {
     "data": {
      "text/plain": [
       "7"
      ]
     },
     "execution_count": 7,
     "metadata": {},
     "output_type": "execute_result"
    }
   ],
   "source": [
    "X.shape[1]"
   ]
  }
 ],
 "metadata": {
  "kernelspec": {
   "display_name": "allThingsAi-e9gG8qio",
   "language": "python",
   "name": "python3"
  },
  "language_info": {
   "codemirror_mode": {
    "name": "ipython",
    "version": 3
   },
   "file_extension": ".py",
   "mimetype": "text/x-python",
   "name": "python",
   "nbconvert_exporter": "python",
   "pygments_lexer": "ipython3",
   "version": "3.12.6"
  }
 },
 "nbformat": 4,
 "nbformat_minor": 2
}
