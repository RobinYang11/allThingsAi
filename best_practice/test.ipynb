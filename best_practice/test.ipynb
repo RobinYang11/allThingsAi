{
 "cells": [
  {
   "cell_type": "code",
   "execution_count": null,
   "metadata": {},
   "outputs": [
    {
     "ename": "",
     "evalue": "",
     "output_type": "error",
     "traceback": [
      "\u001b[1;31mRunning cells with 'allThingsAi-e9gG8qio (Python 3.13.0)' requires the ipykernel package.\n",
      "\u001b[1;31mRun the following command to install 'ipykernel' into the Python environment. \n",
      "\u001b[1;31mCommand: '/Users/wepay/.local/share/virtualenvs/allThingsAi-e9gG8qio/bin/python -m pip install ipykernel -U --force-reinstall'"
     ]
    }
   ],
   "source": [
    "import torch\n",
    "\n",
    "datas = [\n",
    "    [1, 100, 400, 3],\n",
    "    [2, 100, 300, 1],\n",
    "    [1, 80, 800, 1],\n",
    "    [3, 100, 300, 2],\n",
    "]\n",
    "\n",
    "data = torch.tensor(datas, dtype=torch.float32)"
   ]
  }
 ],
 "metadata": {
  "kernelspec": {
   "display_name": "allThingsAi-e9gG8qio",
   "language": "python",
   "name": "python3"
  },
  "language_info": {
   "name": "python",
   "version": "3.13.0"
  }
 },
 "nbformat": 4,
 "nbformat_minor": 2
}
