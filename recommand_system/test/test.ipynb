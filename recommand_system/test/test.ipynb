{
 "cells": [
  {
   "cell_type": "code",
   "execution_count": 5,
   "metadata": {},
   "outputs": [
    {
     "name": "stdout",
     "output_type": "stream",
     "text": [
      "[[0.7 0.7]\n",
      " [0.3 0.3]]\n",
      "Original array:\n",
      "[[0.7 0.7]\n",
      " [0.3 0.3]]\n",
      "Reduced array:\n",
      "[[ 0.28284271]\n",
      " [-0.28284271]]\n"
     ]
    }
   ],
   "source": [
    "\n",
    "import numpy as np\n",
    "from sklearn.decomposition import PCA\n",
    "\n",
    "\n",
    "arr  = np.array([[.7,.7],[.3,.3]])\n",
    "arr = arr.reshape(2, 2)  # 将arr转成2x2的矩阵\n",
    "\n",
    "print(arr)\n",
    "\n",
    "pca = PCA(n_components=1)  # 选择降维到1个主成分\n",
    "arr_reduced = pca.fit_transform(arr)\n",
    "\n",
    "print(\"Original array:\")\n",
    "print(arr)\n",
    "print(\"Reduced array:\")\n",
    "print(arr_reduced)\n",
    "\n",
    "\n",
    "\n"
   ]
  }
 ],
 "metadata": {
  "kernelspec": {
   "display_name": "aienv",
   "language": "python",
   "name": "python3"
  },
  "language_info": {
   "codemirror_mode": {
    "name": "ipython",
    "version": 3
   },
   "file_extension": ".py",
   "mimetype": "text/x-python",
   "name": "python",
   "nbconvert_exporter": "python",
   "pygments_lexer": "ipython3",
   "version": "3.12.6"
  }
 },
 "nbformat": 4,
 "nbformat_minor": 2
}
