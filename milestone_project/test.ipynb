{
 "cells": [
  {
   "cell_type": "code",
   "execution_count": 319,
   "metadata": {},
   "outputs": [],
   "source": [
    "import numpy as np\n",
    "import torch\n",
    "import torch.nn as nn\n",
    "import torch.nn.functional as F\n",
    "import matplotlib.pyplot as plt\n",
    "\n",
    "RANGE_LOW = -10\n",
    "RANGE_HIGH = 10\n",
    "\n",
    "# 生成数据\n",
    "def generate_data(n):\n",
    "    data = np.zeros((2*n, 2), dtype=np.float64)\n",
    "    labels = np.zeros(2*n)\n",
    "\n",
    "    j = 0\n",
    "    # 生成正例\n",
    "    for i in range(n):\n",
    "        a = np.random.randint(RANGE_LOW, RANGE_HIGH)\n",
    "        b = np.random.randint(RANGE_LOW, RANGE_HIGH)\n",
    "        data[i] = [a, b]\n",
    "        labels[i] = a+b\n",
    "        j = j +1\n",
    "\n",
    "    # 生成反例\n",
    "    for k in range(2*n):\n",
    "        a = np.random.randint(RANGE_LOW, RANGE_HIGH)\n",
    "        b = np.random.randint(RANGE_LOW, RANGE_HIGH)\n",
    "        data[k] = [a, b]\n",
    "        labels[k] = a + b + np.random.randint(-2, 2)\n",
    "\n",
    "    return data, labels\n",
    "\n",
    "\n",
    "# 创建模型\n",
    "def createModel(units):\n",
    "\n",
    "    class ANN(nn.Module):\n",
    "\n",
    "        def __init__(self):\n",
    "            super().__init__()\n",
    "            self.input = nn.Linear(2, units)\n",
    "            self.output = nn.Linear(units, 1)\n",
    "\n",
    "        def forward(self, x):\n",
    "            x = F.relu(self.input(x))\n",
    "            x = self.output(x)\n",
    "            return x\n",
    "\n",
    "    model = ANN()\n",
    "    loss = nn.MSELoss()\n",
    "    optimizer = torch.optim.SGD(model.parameters(), lr=.05)\n",
    "    return model, loss, optimizer\n",
    "\n",
    "# 训练模型\n",
    "def trainTheModel(epochs, model, loss, optimizer, data_t, labels):\n",
    "\n",
    "    totalAcc = torch.zeros(epochs)\n",
    "    _loss = torch.zeros(epochs)\n",
    "    for i in range(epochs):\n",
    "        yHat = model(data_t)\n",
    "        lossess = loss(yHat, torch.tensor(labels, dtype=torch.float32))\n",
    "        _loss[i] = lossess\n",
    "        optimizer.zero_grad()\n",
    "        lossess.backward()\n",
    "        optimizer.step()\n",
    "\n",
    "    predictions = model(data_t)\n",
    "    return _loss, predictions\n",
    "\n",
    "\n",
    "def showAcc(accs):\n",
    "    fig, ax = plt.subplots(1, 2, figsize=(12, 1))\n",
    "    ax[0].plot(accs.detach(), 'o')\n",
    "    ax[0].set_title(\"losses\")\n",
    "    ax[0].set_xlabel(\"epoch\")\n",
    "    ax[0].set_ylabel(\"loss\")\n",
    "\n",
    "\n",
    "# 分割数据\n",
    "def prepare_data(data, labels, train_rate=.8):\n",
    "    indexs = np.linspace(0, 100, 100, dtype=np.int64)\n",
    "    indexs = np.delete(indexs, 1)\n",
    "    l =len(data)\n",
    "    l = int(l * train_rate)\n",
    "    train_data =data[0:l]\n",
    "    train_labels = labels[0:l]\n",
    "\n",
    "    test_data = data[l:]\n",
    "    test_labels= labels[l:]\n",
    "\n",
    "    return  train_data,test_data,train_labels,test_labels\n"
   ]
  },
  {
   "cell_type": "code",
   "execution_count": 324,
   "metadata": {},
   "outputs": [
    {
     "name": "stdout",
     "output_type": "stream",
     "text": [
      "[  1.  15.   3.  16.  -3.   0.  -1. -11. -10.  12. -10.  -6.   9.  -7.\n",
      "   9.  10.  -9. -10.   4.  -9.  -1. -13.   6.  -2.   1.  -2. -10. -13.\n",
      "   4.   4.  13.   5.  14.   3.  -5.  -2.   1.   6.  16.   2.  -5. -16.\n",
      " -10. -12.   6.  -3.   4.   0.  -3.   1.   0.  -2.   6.  -5.   8.  -2.\n",
      " -12.  -1.  -2. -18.   7.  12. -10.   1. -19.   4.   9. -17.  -9.   9.\n",
      " -13.  -9.  -8.   7.   2.  -8. -13.  -4. -14.   9.  -7.   0.  -8.  -2.\n",
      "  12.  -9.   6. -11.  -9.   0.   4.  -4.   7.  -1.  -2.   1.  -3.   6.\n",
      "  11.  -4.]\n"
     ]
    },
    {
     "name": "stderr",
     "output_type": "stream",
     "text": [
      "/Users/ouyuan/Library/Python/3.9/lib/python/site-packages/torch/nn/modules/loss.py:536: UserWarning: Using a target size (torch.Size([100])) that is different to the input size (torch.Size([100, 1])). This will likely lead to incorrect results due to broadcasting. Please ensure they have the same size.\n",
      "  return F.mse_loss(input, target, reduction=self.reduction)\n"
     ]
    },
    {
     "data": {
      "image/png": "[encoded data removed]",
      "text/plain": [
       "<Figure size 640x480 with 1 Axes>"
      ]
     },
     "metadata": {},
     "output_type": "display_data"
    }
   ],
   "source": [
    "data,labels = generate_data(100)\n",
    "print(labels)\n",
    "\n",
    "data_t =torch.tensor(data).float()\n",
    "model,loss,optimizer = createModel(4)\n",
    "\n",
    "_loss,predictions= trainTheModel(10000,model,loss,optimizer,data_t,labels)\n",
    "\n",
    "def showLoss(losses):\n",
    "    plt.plot(losses.detach(),'o')      \n",
    "\n",
    "def showData(labels,predictions):\n",
    "    plt.plot(labels,'bo', label=\"true\")\n",
    "    plt.plot(predictions.detach(),'rs',label='Predictions')\n",
    "    plt.show()\n",
    "    \n",
    "\n",
    "# showLoss(_loss)\n",
    "\n",
    "showData(labels,predictions)\n",
    "\n"
   ]
  }
 ],
 "metadata": {
  "kernelspec": {
   "display_name": "Python 3",
   "language": "python",
   "name": "python3"
  },
  "language_info": {
   "codemirror_mode": {
    "name": "ipython",
    "version": 3
   },
   "file_extension": ".py",
   "mimetype": "text/x-python",
   "name": "python",
   "nbconvert_exporter": "python",
   "pygments_lexer": "ipython3",
   "version": "3.9.6"
  },
  "orig_nbformat": 4
 },
 "nbformat": 4,
 "nbformat_minor": 2
}
