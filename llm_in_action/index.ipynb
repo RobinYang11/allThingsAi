{
 "cells": [
  {
   "cell_type": "code",
   "execution_count": 29,
   "metadata": {},
   "outputs": [],
   "source": [
    "import torch"
   ]
  },
  {
   "cell_type": "code",
   "execution_count": 30,
   "metadata": {},
   "outputs": [
    {
     "name": "stdout",
     "output_type": "stream",
     "text": [
      "\n",
      "\n",
      "Since 1900, when L\n"
     ]
    }
   ],
   "source": [
    "with open('./data.txt','r',encoding='utf-8') as f:\n",
    "    text= f.read()\n",
    "\n",
    "print(text[:20])\n",
    "chars = sorted(set(text))\n",
    "string2int = {b:a for a,b in enumerate(chars)}\n",
    "int2string = {a:b for a,b in enumerate(chars)}\n",
    "\n"
   ]
  },
  {
   "cell_type": "markdown",
   "metadata": {},
   "source": [
    "#### 创建tokenizer [编码器/解码器]"
   ]
  },
  {
   "cell_type": "code",
   "execution_count": 31,
   "metadata": {},
   "outputs": [
    {
     "name": "stdout",
     "output_type": "stream",
     "text": [
      "[65, 62, 69, 69, 72]\n"
     ]
    },
    {
     "data": {
      "text/plain": [
       "'hello'"
      ]
     },
     "execution_count": 31,
     "metadata": {},
     "output_type": "execute_result"
    }
   ],
   "source": [
    "encoder = lambda input : [string2int[char] for char in input]\n",
    "decoder = lambda l : ''.join([int2string[i] for i in l])\n",
    "\n",
    "## 对收入字符进行编码\n",
    "encoded_hello = encoder('hello')\n",
    "print(encoded_hello)\n",
    "## 解码\n",
    "decoded_hello =decoder(encoded_hello)\n",
    "decoded_hello"
   ]
  },
  {
   "cell_type": "code",
   "execution_count": 32,
   "metadata": {},
   "outputs": [],
   "source": [
    "data= torch.tensor(encoder(text),dtype=torch.long)\n",
    "n = int(0.8 *len(data))\n",
    "train_data= data[:n]\n",
    "test_data= data[n:]"
   ]
  },
  {
   "cell_type": "code",
   "execution_count": 34,
   "metadata": {},
   "outputs": [
    {
     "name": "stdout",
     "output_type": "stream",
     "text": [
      "tensor([ 0,  0, 47, 66, 71, 60, 62,  1])\n",
      "hello robin!\n"
     ]
    }
   ],
   "source": [
    "block_size =8\n",
    "x = train_data[:block_size]\n",
    "y =train_data[1:block_size+1]\n",
    "print(x)\n",
    "y\n",
    "print(\"hello robin!\")"
   ]
  },
  {
   "cell_type": "code",
   "execution_count": null,
   "metadata": {},
   "outputs": [],
   "source": []
  }
 ],
 "metadata": {
  "kernelspec": {
   "display_name": "Python 3",
   "language": "python",
   "name": "python3"
  },
  "language_info": {
   "codemirror_mode": {
    "name": "ipython",
    "version": 3
   },
   "file_extension": ".py",
   "mimetype": "text/x-python",
   "name": "python",
   "nbconvert_exporter": "python",
   "pygments_lexer": "ipython3",
   "version": "3.9.6"
  },
  "orig_nbformat": 4
 },
 "nbformat": 4,
 "nbformat_minor": 2
}
