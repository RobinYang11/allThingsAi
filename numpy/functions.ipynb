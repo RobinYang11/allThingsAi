{
 "cells": [
  {
   "cell_type": "markdown",
   "metadata": {},
   "source": [
    "### np.arange\n",
    "- start:起点值；可忽略不写，默认从0开始\n",
    "- stop:终点值；生成的元素不包括结束值\n",
    "- step:步长；可忽略不写，默认步长为1\n",
    "- dtype:默认为None，设置显示元素的数据类型"
   ]
  },
  {
   "cell_type": "code",
   "execution_count": 1,
   "metadata": {},
   "outputs": [
    {
     "name": "stdout",
     "output_type": "stream",
     "text": [
      "np.arange(7):  [0 1 2 3 4 5 6]\n",
      "np.arange(3,7):  [3 4 5 6]\n",
      "np.arange(3,7,2):  [3 5]\n",
      "np.arange(3,7,0.5):  [3.  3.5 4.  4.5 5.  5.5 6.  6.5]\n"
     ]
    }
   ],
   "source": [
    "import numpy as np\n",
    "\n",
    "\n",
    "## numpy 通函数\n",
    "arr = np.array([1, 2, 3])\n",
    "((arr * 10 + 2) - 4)\n",
    "\n",
    "print(\"np.arange(7): \",np.arange(7))     #终点值为7，默认起点值为0，步长为1；\n",
    "print(\"np.arange(3,7): \",np.arange(3,7)) #终点值为7，起点值为3，默认步长为1；\n",
    "print(\"np.arange(3,7,2): \",np.arange(3,7,2)) #终点值为7，起点值为3，步长为2；\n",
    "print(\"np.arange(3,7,0.5): \",np.arange(3,7,0.5)) #终点值为7，起点值为3，步长为0.5(小数)；\n"
   ]
  },
  {
   "cell_type": "code",
   "execution_count": 35,
   "metadata": {},
   "outputs": [
    {
     "data": {
      "text/plain": [
       "array([1., 1., 1., 1., 1., 1., 1., 1., 1., 1., 1., 1., 1., 1., 1., 1., 1.,\n",
       "       1., 1., 1., 1., 1., 1., 1., 1., 1., 1., 1., 1., 1., 1., 1., 1., 1.,\n",
       "       1., 1., 1., 1., 1., 1.])"
      ]
     },
     "execution_count": 35,
     "metadata": {},
     "output_type": "execute_result"
    }
   ],
   "source": [
    "\n",
    "\n",
    "r =np.arange(3,123,3)\n",
    "# r\n",
    "\n",
    "r = r/ np.max(r)\n",
    "r\n",
    "d = (r > 0).astype(float)\n"
   ]
  },
  {
   "cell_type": "code",
   "execution_count": 37,
   "metadata": {},
   "outputs": [
    {
     "name": "stdout",
     "output_type": "stream",
     "text": [
      "tensor([1, 1, 1])\n",
      "torch.Size([3])\n",
      "(3,)\n",
      "(3,)\n"
     ]
    }
   ],
   "source": [
    "\n",
    "input = np.array([[1,2,3],[4,5,6]])\n",
    "weight = np.array([1,1,1])\n",
    "weightT =torch.tensor(weight)\n",
    "print(weightT)\n",
    "print(weightT.shape)\n",
    "res =np.matmul(input,weight)\n",
    "# print(weight.T)\n",
    "resT = weight.T\n",
    "print(resT.shape)\n",
    "print(weight.shape)\n"
   ]
  }
 ],
 "metadata": {
  "kernelspec": {
   "display_name": "Python 3",
   "language": "python",
   "name": "python3"
  },
  "language_info": {
   "codemirror_mode": {
    "name": "ipython",
    "version": 3
   },
   "file_extension": ".py",
   "mimetype": "text/x-python",
   "name": "python",
   "nbconvert_exporter": "python",
   "pygments_lexer": "ipython3",
   "version": "3.12.6"
  },
  "orig_nbformat": 4
 },
 "nbformat": 4,
 "nbformat_minor": 2
}
