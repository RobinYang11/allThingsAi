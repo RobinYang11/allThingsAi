{
 "cells": [
  {
   "cell_type": "code",
   "execution_count": 8,
   "metadata": {},
   "outputs": [
    {
     "name": "stdout",
     "output_type": "stream",
     "text": [
      "[[1.]\n",
      " [1.]\n",
      " [0.]\n",
      " [0.]]\n",
      "34.0\n"
     ]
    }
   ],
   "source": [
    "\n",
    "import numpy  as np\n",
    "\n",
    "s=np.vstack((np.ones((2,1)),np.zeros((2,1))))\n",
    "\n",
    "print(s)\n",
    "\n",
    "\n",
    "r =np.random.randn(10) + 100\n",
    "\n",
    "l =list('cat')\n",
    "\n",
    "\n",
    "## 生成一个2*10的数组\n",
    "arrs =np.zeros((10,2))\n",
    "arrs[4,:] = 1,2\n",
    "\n",
    "res = np.meshgrid(1,3)\n",
    "\n",
    "print(np.round(34.43276345))\n",
    "\n",
    "\n",
    "x = np.linspace(10,500,40)\n",
    "# print(x)\n",
    "\n",
    "\n",
    "times =np.round(np.linspace(10,500,40))\n",
    "# print(times)\n",
    "\n"
   ]
  },
  {
   "cell_type": "code",
   "execution_count": 14,
   "metadata": {},
   "outputs": [
    {
     "name": "stdout",
     "output_type": "stream",
     "text": [
      "0b10000110\n",
      "0b1\n",
      "-0b10\n",
      "-2\n",
      "-1\n"
     ]
    }
   ],
   "source": [
    "##\n",
    "print(bin(134))\n",
    "\n",
    "a = 1\n",
    "print(bin(a))\n",
    "print(bin(~a))\n",
    "print(~True)\n",
    "print(~False)\n"
   ]
  }
 ],
 "metadata": {
  "kernelspec": {
   "display_name": "Python 3",
   "language": "python",
   "name": "python3"
  },
  "language_info": {
   "codemirror_mode": {
    "name": "ipython",
    "version": 3
   },
   "file_extension": ".py",
   "mimetype": "text/x-python",
   "name": "python",
   "nbconvert_exporter": "python",
   "pygments_lexer": "ipython3",
   "version": "3.9.6"
  },
  "orig_nbformat": 4
 },
 "nbformat": 4,
 "nbformat_minor": 2
}
