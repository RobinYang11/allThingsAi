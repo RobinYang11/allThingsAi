{
 "cells": [
  {
   "cell_type": "code",
   "execution_count": null,
   "metadata": {},
   "outputs": [],
   "source": [
    "from torch.utils.data import Dataset,TensorDataset\n",
    "from PIL import Image\n",
    "\n",
    "\n",
    "class MyDataset(Dataset):\n",
    "\n",
    "    \n",
    "    def __init__(self):\n",
    "        self.name =\"robin\"\n",
    "    \n",
    "    def __getItem__(self,idx):\n",
    "        return 0\n",
    "\n",
    "\n",
    "\n",
    "\n",
    "\n"
   ]
  }
 ],
 "metadata": {
  "language_info": {
   "name": "python"
  },
  "orig_nbformat": 4
 },
 "nbformat": 4,
 "nbformat_minor": 2
}
