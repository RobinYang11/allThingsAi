{
 "cells": [
  {
   "cell_type": "markdown",
   "metadata": {},
   "source": [
    "### Tensor 张量的概念\n"
   ]
  },
  {
   "cell_type": "code",
<<<<<<< HEAD
   "execution_count": 9,
=======
   "execution_count": 2,
>>>>>>> 0d2cdfacc8c14088d6c3c9f0e71977e9fa49781d
   "metadata": {},
   "outputs": [
    {
     "name": "stdout",
     "output_type": "stream",
     "text": [
      "tensor([1, 2, 3, 4])\n",
      "tensor([1, 2, 3, 4])\n",
      "tensor([1, 2, 3, 4])\n"
     ]
    }
   ],
   "source": [
    "\n",
    "import torch \n",
    "import numpy as np\n",
    "\n",
    "\n",
    "## 创建tensor\n",
    "a = torch.tensor([1,2,3,4])\n",
    "b = torch.tensor((1,2,3,4))\n",
    "c = torch.tensor(np.array([1,2,3,4]))\n",
    "\n",
    "# 2x3 值为1的张量\n",
    "d= torch.ones(2,3)\n",
    "\n",
    "# 2x3 值为0的张量\n",
    "e =torch.zeros(2,3)\n",
    "\n",
    "# 创建2x3 结构的 值为0-1之间的张量\n",
    "r =torch.rand(2,3)\n",
    "\n",
    "# 2x3 正态分布的随机张量\n",
    "n = torch.randn(2,3)\n",
    "\n",
    "\n",
    "\n",
    "print(a)\n",
    "print(b)\n",
    "print(c)"
   ]
  },
  {
   "cell_type": "markdown",
   "metadata": {},
   "source": [
    "#### torch.tensor(data,dtype=None,device=None,requires_grad = False)\n",
    "\n",
    "- data: 列表，元组 ,numpy 数组"
   ]
  },
  {
   "cell_type": "markdown",
   "metadata": {},
   "source": [
    "### tensor 基础运行"
   ]
  },
  {
   "cell_type": "code",
<<<<<<< HEAD
   "execution_count": 10,
=======
   "execution_count": 3,
>>>>>>> 0d2cdfacc8c14088d6c3c9f0e71977e9fa49781d
   "metadata": {},
   "outputs": [
    {
     "name": "stdout",
     "output_type": "stream",
     "text": [
      "tensor([ 1,  3,  4, 56, 46,  6,  4, 74, 65,  7, 57,  7])\n",
      "tensor([ 3,  5,  6, 58, 48,  8,  6, 76, 67,  9, 59,  9])\n",
      "tensor([False,  True,  True,  True,  True,  True,  True,  True,  True,  True,\n",
      "         True,  True])\n"
     ]
    }
   ],
   "source": [
    "\n",
    "t = torch.tensor([1, 3, 4, 56, 46, 6, 4, 74, 65, 7, 57, 7])\n",
    "print(t)\n",
    "\n",
    "# 给tensor中每个元素加2 并返回新的tensor\n",
    "t2 =t + 2 \n",
    "print(t2)\n",
    "\n",
    "# 把t中大于2的元素筛选出来 ，并返回一个新的tensor中\n",
    "tq = t > 2\n",
    "print(tq)\n"
   ]
  },
  {
   "cell_type": "code",
<<<<<<< HEAD
   "execution_count": 11,
=======
   "execution_count": 4,
>>>>>>> 0d2cdfacc8c14088d6c3c9f0e71977e9fa49781d
   "metadata": {},
   "outputs": [
    {
     "name": "stdout",
     "output_type": "stream",
     "text": [
<<<<<<< HEAD
      "[[-0.35614721 -1.02221728]\n",
      " [-0.19681045 -0.53216753]\n",
      " [-0.33480198 -1.12468367]\n",
      " [-0.19184008  2.24599802]\n",
      " [ 0.51841297 -0.33827044]\n",
      " [-0.87892045  0.76578746]\n",
      " [-2.27740339 -1.47708195]\n",
      " [ 0.26051654  0.66225953]\n",
      " [-1.65648386  0.06654454]\n",
      " [-0.6225436   0.48872128]\n",
      " [ 0.36681333  0.16695567]\n",
      " [-1.37439714  0.62112203]]\n",
      "== 取第列的 索引为0 和 1 的2个元素\n",
      "[-0.35614721 -0.19681045]\n",
      "tensor([[ 1.5394,  0.8294],\n",
      "        [ 2.5670,  0.9525],\n",
      "        [ 1.6411, -0.1584],\n",
      "        [ 0.3676, -0.0402],\n",
      "        [-0.0181,  1.3313],\n",
      "        [ 0.2563, -1.0131],\n",
      "        [-0.5790, -0.3158],\n",
      "        [ 1.2298, -0.4195],\n",
      "        [ 1.0835,  0.3224],\n",
      "        [-0.7196, -0.4296],\n",
      "        [ 1.5401, -0.2049],\n",
      "        [-1.8335, -0.1254]])\n"
=======
      "[[ 1.20910506 -1.27049691]\n",
      " [-0.52882362 -0.05214191]\n",
      " [ 0.06885529 -1.30206226]\n",
      " [ 1.30046931  0.36747113]\n",
      " [-0.21714339  1.01081242]\n",
      " [-0.24645089  0.32133379]\n",
      " [ 0.79198246 -1.11372798]\n",
      " [ 0.56089424  0.58781742]\n",
      " [-1.71733229 -0.62259176]\n",
      " [ 0.37911653 -2.55700154]\n",
      " [ 1.75455612 -0.42674303]\n",
      " [ 1.32365973  1.39843509]]\n",
      "== 取第列的 索引为0 和 1 的2个元素\n",
      "[ 1.20910506 -0.52882362]\n",
      "tensor([[ 0.2578,  0.1485],\n",
      "        [ 0.5916, -1.1663],\n",
      "        [ 1.5990, -1.4840],\n",
      "        [ 0.2038,  0.4212],\n",
      "        [ 1.4657, -1.6610],\n",
      "        [ 0.6718,  0.0990],\n",
      "        [ 0.6201, -0.7740],\n",
      "        [-0.9372,  0.8140],\n",
      "        [-1.1266,  0.8464],\n",
      "        [-0.7114, -0.3700],\n",
      "        [-0.3048, -1.2319],\n",
      "        [ 0.1773, -1.4650]])\n"
>>>>>>> 0d2cdfacc8c14088d6c3c9f0e71977e9fa49781d
     ]
    },
    {
     "data": {
      "text/plain": [
<<<<<<< HEAD
       "tensor([1.5394, 2.5670, 1.6411])"
      ]
     },
     "execution_count": 11,
=======
       "tensor([0.2578, 0.5916, 1.5990])"
      ]
     },
     "execution_count": 4,
>>>>>>> 0d2cdfacc8c14088d6c3c9f0e71977e9fa49781d
     "metadata": {},
     "output_type": "execute_result"
    }
   ],
   "source": [
    "\n",
    "\n",
    "na = np.random.randn(12, 2)\n",
    "print(na)\n",
    "\n",
    "print(\"== 取第列的 索引为0 和 1 的2个元素\")\n",
    "print(na[[0, 1], 0])\n",
    "\n",
    "r1 = torch.randn(12, 2)\n",
    "print(r1)\n",
    "\n",
    "r1[[0, 1, 2], 0]\n",
    "# r1[[],0]"
   ]
  },
  {
   "cell_type": "markdown",
   "metadata": {},
   "source": [
    "### 带梯度的tensor"
   ]
  },
  {
   "cell_type": "code",
<<<<<<< HEAD
   "execution_count": 12,
=======
   "execution_count": 5,
>>>>>>> 0d2cdfacc8c14088d6c3c9f0e71977e9fa49781d
   "metadata": {},
   "outputs": [
    {
     "name": "stdout",
     "output_type": "stream",
     "text": [
      "None\n",
      "tensor([4.])\n"
     ]
    }
   ],
   "source": [
    "\n",
    "\n",
    "# 创建一个需要梯度的张量\n",
    "x = torch.tensor([2.0], requires_grad=True)\n",
    "\n",
    "print(x.grad)\n",
    "# 计算函数\n",
    "y = x ** 2\n",
    "\n",
    "y.backward()\n",
    "\n",
    "# 使用detach() 创建一个没有梯度的张量\n",
    "z = y.detach()\n",
    "\n",
    "# 尝试进行反向传播会导致错误\n",
    "# y.backward()  因为y有梯度 ,但z没有\n",
    "\n",
    "# 查看梯度信息\n",
    "print(x.grad)"
   ]
  },
  {
   "cell_type": "code",
<<<<<<< HEAD
   "execution_count": 13,
=======
   "execution_count": 6,
>>>>>>> 0d2cdfacc8c14088d6c3c9f0e71977e9fa49781d
   "metadata": {},
   "outputs": [
    {
     "name": "stdout",
     "output_type": "stream",
     "text": [
      "tensor([False,  True,  True,  True])\n",
      "tensor(3)\n"
     ]
    }
   ],
   "source": [
    "st =torch.tensor([1,2.234,3.2,4.3])\n",
    "\n",
    "rest = st > 2 \n",
    "print(rest)\n",
    "\n",
    "# stm =sum(st)\n",
    "print(sum(rest))\n"
   ]
  },
  {
   "cell_type": "markdown",
   "metadata": {},
   "source": [
    "### 2个tensor 对比\n"
   ]
  },
  {
   "cell_type": "code",
<<<<<<< HEAD
   "execution_count": 14,
=======
   "execution_count": 7,
>>>>>>> 0d2cdfacc8c14088d6c3c9f0e71977e9fa49781d
   "metadata": {},
   "outputs": [
    {
     "data": {
      "text/plain": [
       "tensor([[False],\n",
       "        [ True],\n",
       "        [ True]])"
      ]
     },
<<<<<<< HEAD
     "execution_count": 14,
=======
     "execution_count": 7,
>>>>>>> 0d2cdfacc8c14088d6c3c9f0e71977e9fa49781d
     "metadata": {},
     "output_type": "execute_result"
    }
   ],
   "source": [
    "t1 = torch.tensor([[1],[2],[3]])\n",
    "t1\n",
    "\n",
    "t2 = torch.tensor([[0],[2],[3]])\n",
    "t2\n",
    "\n",
    "## 标记统一位置上元素是否相等，最终返回一个 tensor里面是bool类型的值\n",
    "t1 == t2\n"
   ]
  },
  {
   "cell_type": "code",
<<<<<<< HEAD
   "execution_count": null,
   "metadata": {},
   "outputs": [],
   "source": []
  },
  {
   "cell_type": "code",
   "execution_count": 15,
   "metadata": {},
   "outputs": [
    {
     "data": {
      "text/plain": [
       "tensor([1, 2, 3, 4])"
      ]
     },
     "execution_count": 15,
     "metadata": {},
     "output_type": "execute_result"
    }
   ],
   "source": [
    "arr1 =np.array([1,2,3,4])\n",
    "tr =torch.tensor(arr1)\n",
    "tr.reshape(4,1)\n",
    "tr.reshape([4])\n",
    "tr\n"
   ]
  },
  {
   "cell_type": "code",
   "execution_count": 24,
=======
   "execution_count": 18,
>>>>>>> 0d2cdfacc8c14088d6c3c9f0e71977e9fa49781d
   "metadata": {},
   "outputs": [
    {
     "name": "stdout",
     "output_type": "stream",
     "text": [
<<<<<<< HEAD
      "tensor([[[0.6947, 0.9437, 0.7527, 0.3255],\n",
      "         [0.1289, 0.8463, 0.9714, 0.1272],\n",
      "         [0.9749, 0.6459, 0.1537, 0.0253]],\n",
      "\n",
      "        [[0.2088, 0.1657, 0.3649, 0.2727],\n",
      "         [0.5352, 0.0840, 0.8313, 0.8777],\n",
      "         [0.6443, 0.4632, 0.5707, 0.0174]]])\n",
      "tensor([0.9749, 0.6459, 0.1537, 0.0253])\n"
     ]
    },
    {
     "data": {
      "text/plain": [
       "tensor([[[0.6947, 0.9437, 0.7527, 0.3255],\n",
       "         [0.1289, 0.8463, 0.9714, 0.1272],\n",
       "         [0.9749, 0.6459, 0.1537, 0.0253]],\n",
       "\n",
       "        [[0.2088, 0.1657, 0.3649, 0.2727],\n",
       "         [0.5352, 0.0840, 0.8313, 0.8777],\n",
       "         [0.6443, 0.4632, 0.5707, 0.0174]]])"
      ]
     },
     "execution_count": 24,
     "metadata": {},
     "output_type": "execute_result"
    }
   ],
   "source": [
    "rd =torch.rand(2,3,4)\n",
    "print(rd)\n",
    "print(rd[0,2])\n",
    "t = torch.squeeze(rd)\n",
    "t\n",
    "\n"
=======
      "[8]\n",
      "[[0. 0. 0. 0.]\n",
      " [0. 0. 0. 0.]\n",
      " [0. 0. 0. 0.]\n",
      " [0. 0. 0. 0.]\n",
      " [0. 0. 0. 0.]\n",
      " [0. 0. 0. 0.]\n",
      " [0. 0. 0. 0.]\n",
      " [0. 0. 0. 0.]\n",
      " [0. 0. 0. 0.]\n",
      " [0. 0. 0. 0.]]\n"
     ]
    }
   ],
   "source": [
    "\n",
    "def shuffle_data(data):\n",
    "    l =len(data) \n",
    "    idx = np.random.randint(0,l,1)\n",
    "    print(idx)\n",
    "    npa= np.zeros((l,4))\n",
    "    print(npa)\n",
    "\n",
    "data =torch.randn(10,4)\n",
    "shuffle_data(data)\n",
    "    "
>>>>>>> 0d2cdfacc8c14088d6c3c9f0e71977e9fa49781d
   ]
  }
 ],
 "metadata": {
  "kernelspec": {
   "display_name": "Python 3",
   "language": "python",
   "name": "python3"
  },
  "language_info": {
   "codemirror_mode": {
    "name": "ipython",
    "version": 3
   },
   "file_extension": ".py",
   "mimetype": "text/x-python",
   "name": "python",
   "nbconvert_exporter": "python",
   "pygments_lexer": "ipython3",
   "version": "3.9.6"
  },
  "orig_nbformat": 4
 },
 "nbformat": 4,
 "nbformat_minor": 2
}
