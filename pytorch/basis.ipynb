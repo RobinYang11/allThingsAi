{
 "cells": [
  {
   "cell_type": "code",
   "execution_count": 67,
   "metadata": {},
   "outputs": [],
   "source": [
    "import numpy as np\n",
    "import torch\n",
    "import matplotlib.pyplot as plt\n",
    "from mpl_toolkits.mplot3d import Axes3D\n",
    "import random\n",
    "\n",
    "# 这些东西代表的数值是相同的，但他们在计算机中存储的方式和表示方式有所不同\n",
    "# 不同类型 有不同的操作\n",
    "\n",
    "## python list\n",
    "arr = [1,2,3]\n",
    "## numpy 数组\n",
    "np_arr = np.array([1,2,3])\n",
    "## torch tensor\n",
    "tensor_arr = torch.Tensor([1,2,3])\n"
   ]
  },
  {
   "cell_type": "markdown",
   "metadata": {},
   "source": [
    "### 矩阵的转置"
   ]
  },
  {
   "cell_type": "code",
   "execution_count": 68,
   "metadata": {},
   "outputs": [
    {
     "name": "stdout",
     "output_type": "stream",
     "text": [
      "[[1 2 3 4]]\n",
      "[[1]\n",
      " [2]\n",
      " [3]\n",
      " [4]]\n",
      "[[1 2 3 4]]\n"
     ]
    }
   ],
   "source": [
    "## 创建向量\n",
    "na = np.array([[1,2,3,4]])\n",
    "print(na)\n",
    "\n",
    "\n",
    "\n",
    "## 转置\n",
    "naT = na.T\n",
    "print(naT)\n",
    "\n",
    "## 再转置\n",
    "naTT =naT.T\n",
    "\n",
    "print(naTT)\n",
    "\n"
   ]
  },
  {
   "cell_type": "markdown",
   "metadata": {},
   "source": [
    "### 计算向量的点极\n"
   ]
  },
  {
   "cell_type": "code",
   "execution_count": 69,
   "metadata": {},
   "outputs": [
    {
     "data": {
      "text/plain": [
       "14"
      ]
     },
     "execution_count": 69,
     "metadata": {},
     "output_type": "execute_result"
    }
   ],
   "source": [
    "\n",
    "nv1 = np.array([1,2,3,4])\n",
    "nv2= np.array([0,1,0,3])\n",
    "\n",
    "np.dot(nv1,nv2)"
   ]
  },
  {
   "cell_type": "markdown",
   "metadata": {},
   "source": [
    "### np.tile 复制"
   ]
  },
  {
   "cell_type": "code",
   "execution_count": 70,
   "metadata": {},
   "outputs": [
    {
     "name": "stdout",
     "output_type": "stream",
     "text": [
      "[[1 2 3 1 2 3 1 2 3]\n",
      " [4 5 6 4 5 6 4 5 6]]\n",
      "[[1 2 3]\n",
      " [4 5 6]\n",
      " [1 2 3]\n",
      " [4 5 6]\n",
      " [1 2 3]\n",
      " [4 5 6]]\n"
     ]
    }
   ],
   "source": [
    "arr1 =  np.array([[1,2,3],[4,5,6]])\n",
    "\n",
    "arr2 = np.tile(arr1,3)\n",
    "arr3 = np.tile(arr1,(3,1))\n",
    "print(arr2)\n",
    "print(arr3)"
   ]
  },
  {
   "cell_type": "markdown",
   "metadata": {},
   "source": [
    "### tensor.mean() 求tensor 所有元素的平均值"
   ]
  },
  {
   "cell_type": "code",
   "execution_count": 71,
   "metadata": {},
   "outputs": [
    {
     "data": {
      "text/plain": [
       "tensor(2.)"
      ]
     },
     "execution_count": 71,
     "metadata": {},
     "output_type": "execute_result"
    }
   ],
   "source": [
    "d = torch.tensor([[1, 2, 3], [1, 2, 3], [1, 2, 3]])\n",
    "r = torch.mean(d.T.float())\n",
    "r"
   ]
  },
  {
   "cell_type": "code",
   "execution_count": 72,
   "metadata": {},
   "outputs": [
    {
     "name": "stdout",
     "output_type": "stream",
     "text": [
      "tensor([[1],\n",
      "        [2]])\n",
      "tensor([[1, 2, 3],\n",
      "        [2, 3, 4]])\n",
      "tensor([[34, 34,  5],\n",
      "        [32,  5,  6]])\n"
     ]
    }
   ],
   "source": [
    "\n",
    "tt = torch.tensor([[1,2,3],[2,3,4],[34,34,5],[32,5,6]])\n",
    "\n",
    "tt[1,]\n",
    "print(tt[0:2:1, 0:1])\n",
    "print(tt[0:2])\n",
    "print(tt[2:])"
   ]
  },
  {
   "cell_type": "code",
   "execution_count": 73,
   "metadata": {},
   "outputs": [
    {
     "name": "stdout",
     "output_type": "stream",
     "text": [
      "[1 4 7]\n"
     ]
    }
   ],
   "source": [
    "aaa =np.array([[1,2,3],[4,5,6],[7,8,9]])\n",
    "aaa\n",
    "print(aaa[:,0])"
   ]
  },
  {
   "cell_type": "code",
   "execution_count": 74,
   "metadata": {},
   "outputs": [
    {
     "data": {
      "text/plain": [
       "<Figure size 640x480 with 0 Axes>"
      ]
     },
     "metadata": {},
     "output_type": "display_data"
    }
   ],
   "source": [
    "\n",
    "fig = plt.figure()\n",
    "\n",
    "ax = Axes3D(fig)\n",
    "\n",
    "X = np.arange(-2,2,0.1)\n",
    "\n",
    "Y = np.arange(-2,2,0.1)\n",
    "ax.scatter(X,Y,np.arange(-2,2,0.1))\n",
    "\n",
    "plt.show()"
   ]
  },
  {
   "cell_type": "code",
   "execution_count": 89,
   "metadata": {},
   "outputs": [
    {
     "data": {
      "text/plain": [
       "61"
      ]
     },
     "execution_count": 89,
     "metadata": {},
     "output_type": "execute_result"
    }
   ],
   "source": [
    "r =random.randrange(0,100,1)\n",
    "\n",
    "r1= np.random.uniform()\n",
    "r"
   ]
  }
 ],
 "metadata": {
  "kernelspec": {
   "display_name": "Python 3",
   "language": "python",
   "name": "python3"
  },
  "language_info": {
   "codemirror_mode": {
    "name": "ipython",
    "version": 3
   },
   "file_extension": ".py",
   "mimetype": "text/x-python",
   "name": "python",
   "nbconvert_exporter": "python",
   "pygments_lexer": "ipython3",
   "version": "3.9.6"
  },
  "orig_nbformat": 4
 },
 "nbformat": 4,
 "nbformat_minor": 2
}
