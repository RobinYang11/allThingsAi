{
 "cells": [
  {
   "cell_type": "markdown",
   "metadata": {},
   "source": [
    "### 矩阵乘法"
   ]
  },
  {
   "cell_type": "code",
   "execution_count": 8,
   "metadata": {},
   "outputs": [
    {
     "name": "stdout",
     "output_type": "stream",
     "text": [
      "tensor([5, 7])\n"
     ]
    },
    {
     "data": {
      "text/plain": [
       "tensor([[ 3, -2],\n",
       "        [ 2,  1]])"
      ]
     },
     "execution_count": 8,
     "metadata": {},
     "output_type": "execute_result"
    }
   ],
   "source": [
    "import torch \n",
    "\n",
    "\n",
    "m1 =torch.tensor([[1,3],[3,4]])\n",
    "m2 = torch.tensor([1,2])\n",
    "\n",
    "m3 =m1.matmul(m2)\n",
    "\n",
    "m4 = torch.tensor([[3,-2],[2,1]])\n",
    "m5 = torch.tensor([5,7])\n",
    "\n",
    "m6 = m5.matmul(m4)\n",
    "print(m5)\n",
    "m4\n",
    "\n",
    "\n"
   ]
  }
 ],
 "metadata": {
  "kernelspec": {
   "display_name": "Python 3",
   "language": "python",
   "name": "python3"
  },
  "language_info": {
   "codemirror_mode": {
    "name": "ipython",
    "version": 3
   },
   "file_extension": ".py",
   "mimetype": "text/x-python",
   "name": "python",
   "nbconvert_exporter": "python",
   "pygments_lexer": "ipython3",
   "version": "3.9.6"
  },
  "orig_nbformat": 4
 },
 "nbformat": 4,
 "nbformat_minor": 2
}
