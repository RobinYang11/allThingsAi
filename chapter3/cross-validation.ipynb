{
 "cells": [
  {
   "cell_type": "markdown",
   "metadata": {},
   "source": [
    "### 交叉验证 手动分割数据"
   ]
  },
  {
   "cell_type": "code",
   "execution_count": 15,
   "metadata": {},
   "outputs": [],
   "source": [
    "\n",
    "import torch\n",
    "import torch.nn as nn\n",
    "import numpy as np\n"
   ]
  },
  {
   "cell_type": "code",
   "execution_count": 16,
   "metadata": {},
   "outputs": [],
   "source": [
    "\n",
    "import  seaborn as sns\n",
    "iris =sns.load_dataset('iris')\n",
    "data = torch.tensor(iris[iris.columns[0:4]].values).float()\n",
    "labels = torch.zeros(len(data),dtype=torch.long)\n",
    "\n",
    "labels[iris.species == 'versicolor'] = 1\n",
    "labels[iris.species == 'virginica'] = 2\n"
   ]
  },
  {
   "cell_type": "code",
   "execution_count": 17,
   "metadata": {},
   "outputs": [
    {
     "name": "stdout",
     "output_type": "stream",
     "text": [
      "[ True  True  True  True False False False False  True False False  True\n",
      " False False  True  True  True  True  True  True  True  True  True  True\n",
      "  True False  True  True  True  True False  True  True  True  True  True\n",
      "  True  True  True  True  True  True  True  True  True  True  True  True\n",
      "  True False  True  True  True  True  True  True  True  True  True  True\n",
      " False  True  True  True False  True  True  True False  True  True False\n",
      "  True  True  True  True  True  True  True  True False  True  True  True\n",
      "  True  True  True False  True  True  True  True False  True False False\n",
      "  True  True  True  True  True False  True  True  True  True False  True\n",
      " False  True  True  True  True  True  True  True  True False  True  True\n",
      " False False  True  True  True  True  True  True False  True  True  True\n",
      "  True  True  True  True  True False False  True  True  True  True  True\n",
      " False  True  True  True  True  True]\n"
     ]
    }
   ],
   "source": [
    "# 训练数据集比例\n",
    "propTraining = .8\n",
    "nTraining = int(len(labels) * propTraining)\n",
    "\n",
    "# 初始化一个布尔值 用于选择 数据和标签\n",
    "trainingBool = np.zeros(len(labels),dtype=bool)\n",
    "\n",
    "# 这样选 合适吗？\n",
    "# trainingBool[range(nTraining)] = True\n",
    "\n",
    "## 这个方法会更好一点\n",
    "items2use4train = np.random.choice(range(len(labels)),nTraining,replace=False)\n",
    "\n",
    "trainingBool[items2use4train] = True\n",
    "\n",
    "print(trainingBool)\n"
   ]
  },
  {
   "cell_type": "code",
   "execution_count": 18,
   "metadata": {},
   "outputs": [
    {
     "name": "stdout",
     "output_type": "stream",
     "text": [
      "tensor(1.)\n",
      "tensor(1.0083)\n",
      "tensor(0.9667)\n"
     ]
    }
   ],
   "source": [
    "\n",
    "\n",
    "# = 1  根据定义\n",
    "print(torch.mean(labels.float()))\n",
    "\n",
    "# 应该等于1\n",
    "print(torch.mean(labels[trainingBool].float()))\n",
    "\n",
    "# 也应该等于1\n",
    "print(torch.mean(labels[~trainingBool].float()))\n"
   ]
  },
  {
   "cell_type": "code",
   "execution_count": 19,
   "metadata": {},
   "outputs": [
    {
     "name": "stdout",
     "output_type": "stream",
     "text": [
      "torch.Size([150, 4])\n",
      "torch.Size([120, 4])\n",
      "torch.Size([30, 4])\n"
     ]
    }
   ],
   "source": [
    "\n",
    "ANNiris = nn.Sequential(\n",
    "    nn.Linear(4,64),\n",
    "    nn.ReLU(),\n",
    "    nn.Linear(64,64),\n",
    "    nn.ReLU(),\n",
    "    nn.Linear(64,3)\n",
    ")\n",
    "\n",
    "lossfun = nn.CrossEntropyLoss()\n",
    "optimizer = torch.optim.SGD(ANNiris.parameters(),lr=.01)\n",
    "\n",
    "\n",
    "print(data.shape)\n",
    "\n",
    "print(data[trainingBool,:].shape)\n",
    "print(data[~trainingBool,:].shape)"
   ]
  },
  {
   "cell_type": "code",
   "execution_count": 21,
   "metadata": {},
   "outputs": [],
   "source": [
    "\n",
    "## train and test the model\n",
    "\n",
    "numepoches = 1000\n",
    "\n",
    "losses = torch.zeros(numepoches)\n",
    "ongoingAcc = []\n",
    "\n",
    "for epochi in range(numepoches):\n",
    "    \n",
    "    yHat = ANNiris(data[trainingBool,:])\n",
    "    ongoingAcc.append(100*torch.mean((\n",
    "        torch.argmax(yHat,axis=1) ==labels[trainingBool]).float()))\n",
    "\n",
    "    loss = lossfun(yHat,labels[trainingBool])\n",
    "    losses[epochi] =loss\n",
    "    \n",
    "    optimizer.zero_grad()\n",
    "    loss.backward()\n",
    "    optimizer.step()\n",
    "\n"
   ]
  },
  {
   "cell_type": "code",
   "execution_count": 27,
   "metadata": {},
   "outputs": [
    {
     "ename": "RuntimeError",
     "evalue": "mean(): could not infer output dtype. Input dtype must be either a floating point or complex dtype. Got: Bool",
     "output_type": "error",
     "traceback": [
      "\u001b[0;31m---------------------------------------------------------------------------\u001b[0m",
      "\u001b[0;31mRuntimeError\u001b[0m                              Traceback (most recent call last)",
      "Cell \u001b[0;32mIn[27], line 3\u001b[0m\n\u001b[1;32m      1\u001b[0m predicitions \u001b[39m=\u001b[39m ANNiris(data[trainingBool,:])\n\u001b[0;32m----> 3\u001b[0m trainacc \u001b[39m=\u001b[39m \u001b[39m100\u001b[39m \u001b[39m*\u001b[39m torch\u001b[39m.\u001b[39;49mmean(\n\u001b[1;32m      4\u001b[0m     (torch\u001b[39m.\u001b[39;49margmax(predicitions,axis\u001b[39m=\u001b[39;49m\u001b[39m1\u001b[39;49m) \u001b[39m==\u001b[39;49m labels[trainingBool]\u001b[39m.\u001b[39;49mfloat()))\n\u001b[1;32m      7\u001b[0m \u001b[39m# predicitions = ANNiris(data[~trainingBool,:])\u001b[39;00m\n\u001b[1;32m      8\u001b[0m \n\u001b[1;32m      9\u001b[0m \u001b[39m# testacc = 100 * torch.mean((torch.argmax(predicitions,axix =1) ==labels[~trainingBool]).float())\u001b[39;00m\n",
      "\u001b[0;31mRuntimeError\u001b[0m: mean(): could not infer output dtype. Input dtype must be either a floating point or complex dtype. Got: Bool"
     ]
    }
   ],
   "source": [
    "\n",
    "\n",
    "predicitions = ANNiris(data[trainingBool,:])\n",
    "\n",
    "trainacc = 100 * torch.mean(\n",
    "    (torch.argmax(predicitions,axis=1) == labels[trainingBool].float()))\n",
    "\n",
    "\n",
    "# predicitions = ANNiris(data[~trainingBool,:])\n",
    "\n",
    "# testacc = 100 * torch.mean((torch.argmax(predicitions,axix =1) ==labels[~trainingBool]).float())\n"
   ]
  }
 ],
 "metadata": {
  "kernelspec": {
   "display_name": "Python 3",
   "language": "python",
   "name": "python3"
  },
  "language_info": {
   "codemirror_mode": {
    "name": "ipython",
    "version": 3
   },
   "file_extension": ".py",
   "mimetype": "text/x-python",
   "name": "python",
   "nbconvert_exporter": "python",
   "pygments_lexer": "ipython3",
   "version": "3.9.6"
  },
  "orig_nbformat": 4
 },
 "nbformat": 4,
 "nbformat_minor": 2
}
