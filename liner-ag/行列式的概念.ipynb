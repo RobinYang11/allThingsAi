{
 "cells": [
  {
   "cell_type": "markdown",
   "metadata": {},
   "source": [
    "\n",
    "\n",
    "\n",
    "行列式的历史起源与定义\n",
    "\n",
    "行列式(determinant)最早出现在17世纪,由日本数学家关孝和和欧洲数学家莱布尼茨分别独立发现。\n",
    "\n",
    "最初,行列式是在研究线性方程组时被发现的:\n",
    "- 二元线性方程组的解可以用克莱姆法则表示\n",
    "- 这个解的分母中出现了一个特殊的数值组合,这就是最早的行列式\n",
    "\n",
    "行列式的正式定义:\n",
    "1. 对于n阶方阵A,其行列式det(A)是一个标量\n",
    "2. 它满足以下性质:\n",
    "   - 行列式与转置矩阵的行列式相等\n",
    "   - 某一行乘以数k,行列式变为原来的k倍\n",
    "   - 两行互换,行列式变号\n",
    "   - 行列式对矩阵的行满足线性性质\n",
    "\n",
    "行列式的几何意义:\n",
    "- 二阶行列式表示平行四边形的有向面积\n",
    "- 三阶行列式表示平行六面体的有向体积\n"
   ]
  },
  {
   "cell_type": "code",
   "execution_count": null,
   "metadata": {},
   "outputs": [],
   "source": []
  },
  {
   "cell_type": "code",
   "execution_count": null,
   "metadata": {},
   "outputs": [],
   "source": []
  }
 ],
 "metadata": {
  "language_info": {
   "name": "python"
  }
 },
 "nbformat": 4,
 "nbformat_minor": 2
}
