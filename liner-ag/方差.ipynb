{
 "cells": [
  {
   "cell_type": "markdown",
   "metadata": {},
   "source": [
    "### 方差的概念\n",
    "\n",
    "\n",
    "方差是统计学中用来衡量数据分散程度的一个重要概念。它表示数据点与其均值之间的平均平方差。方差越大，数据的分散程度越高；方差越小，数据则越集中。\n",
    "\n",
    "### 定义\n",
    "方差的数学定义为：\n",
    "\n",
    "$$ \\text{Var}(X) = \\frac{1}{N} \\sum_{i=1}^{N} (X_i - \\mu)^2 $$\n",
    "\n",
    "其中，$X_i$ 是数据集中的每个数据点，$\\mu$ 是数据的均值，$N$ 是数据点的总数。\n",
    "\n",
    "### 用途\n",
    "方差在数据分析和统计学中有广泛的应用，包括：\n",
    "- 衡量数据的波动性\n",
    "- 在机器学习中用于特征选择\n",
    "- 在金融中评估投资风险\n",
    "\n",
    "### 举例说明\n",
    "例如，考虑以下数据集：`[1, 2, 3, 4, 5]`。其均值为 `3`，方差计算如下：\n",
    "\n",
    "$$ \\text{Var}(X) = \\frac{1}{5} \\left((1-3)^2 + (2-3)^2 + (3-3)^2 + (4-3)^2 + (5-3)^2\\right) = \\frac{1}{5} (4 + 1 + 0 + 1 + 4) = 2 $$\n",
    "\n",
    "因此，这个数据集的方差为 `2`，表示数据点相对于均值 `3` 的分散程度。\n",
    "\n",
    "通过计算方差，我们可以更好地理解数据的特性和分布。\n"
   ]
  },
  {
   "cell_type": "code",
   "execution_count": 1,
   "metadata": {},
   "outputs": [
    {
     "name": "stdout",
     "output_type": "stream",
     "text": [
      "方差: 387.15999999999997\n"
     ]
    }
   ],
   "source": [
    "\n",
    "import numpy as np\n",
    "X = [ 1,2,34,5,6,3,45,54,35,3]\n",
    "variance = np.var(X)\n",
    "print(\"方差:\", variance)\n"
   ]
  }
 ],
 "metadata": {
  "kernelspec": {
   "display_name": "aienv",
   "language": "python",
   "name": "python3"
  },
  "language_info": {
   "codemirror_mode": {
    "name": "ipython",
    "version": 3
   },
   "file_extension": ".py",
   "mimetype": "text/x-python",
   "name": "python",
   "nbconvert_exporter": "python",
   "pygments_lexer": "ipython3",
   "version": "3.12.6"
  }
 },
 "nbformat": 4,
 "nbformat_minor": 2
}
